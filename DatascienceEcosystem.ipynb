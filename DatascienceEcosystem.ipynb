{
 "cells": [
  {
   "cell_type": "markdown",
   "id": "f8127f42-1fab-404d-8a5b-d9a1bfd5c997",
   "metadata": {},
   "source": [
    "# Data Science Tools and Ecosystem "
   ]
  },
  {
   "cell_type": "markdown",
   "id": "dc49b146-e719-4098-8c20-0d898d65b8dc",
   "metadata": {},
   "source": [
    "## Author\n",
    "Peter"
   ]
  },
  {
   "cell_type": "markdown",
   "id": "bc48d715-4dec-4e56-b1dd-1643f09c9830",
   "metadata": {},
   "source": [
    "In this notebook, Data Science Tools and Ecosystem are summarized"
   ]
  },
  {
   "cell_type": "markdown",
   "id": "049260c7-e6a8-4fae-8320-d22ea281f63f",
   "metadata": {},
   "source": [
    "__Obectives__\n",
    "- Popular languages used by Data Scientists\n",
    "- Commonly used libraries by Data Scientists\n",
    "- Markdown Table\n",
    "- Creation of coding for multiplication and addition\n",
    "- Conversion of minutes to hours"
   ]
  },
  {
   "cell_type": "markdown",
   "id": "df49c4bb-0f47-45ad-afc7-d67605647707",
   "metadata": {},
   "source": [
    "Some of the popular languages that Data Scientists use are:\n",
    "\n",
    "1. Python\n",
    "2. SQL\n",
    "3. R"
   ]
  },
  {
   "cell_type": "markdown",
   "id": "2e98aaaf-b897-486f-b911-a6d65e5d1ae8",
   "metadata": {
    "tags": []
   },
   "source": [
    "Some of the commonly used libraries used by Data Scientist include:\n",
    "\n",
    "1. Numpy\n",
    "2. Pandas\n",
    "3. Matplotlib\n",
    "4. Scikit-learn"
   ]
  },
  {
   "cell_type": "markdown",
   "id": "dc2b18eb-56c5-4ca9-aff6-8d9d03386bf4",
   "metadata": {},
   "source": [
    "| Data Science Tools |\n",
    "|--------------------|\n",
    "| Anaconda |\n",
    "| RStudio |\n",
    "| Jupyter Notebooks |\n",
    "| Jupyter Labs |\n",
    "| Google Colaboration |\n",
    "\n",
    "\n"
   ]
  },
  {
   "cell_type": "markdown",
   "id": "939c19c8-48ad-4235-b8e1-c6df8b714526",
   "metadata": {},
   "source": [
    "### Below are a few examples of evaluating arithmetic expressions in Python."
   ]
  },
  {
   "cell_type": "code",
   "execution_count": 2,
   "id": "56ebb834-3a6d-450f-9a20-5cfadcb3c342",
   "metadata": {
    "tags": []
   },
   "outputs": [
    {
     "data": {
      "text/plain": [
       "17"
      ]
     },
     "execution_count": 2,
     "metadata": {},
     "output_type": "execute_result"
    }
   ],
   "source": [
    "# This is a simple arithmetic expression to mutiply then add integers\n",
    "(3*4)+5"
   ]
  },
  {
   "cell_type": "code",
   "execution_count": 5,
   "id": "daabe000-5648-4456-a289-6f7962d3b261",
   "metadata": {
    "tags": []
   },
   "outputs": [
    {
     "data": {
      "text/plain": [
       "3.33"
      ]
     },
     "execution_count": 5,
     "metadata": {},
     "output_type": "execute_result"
    }
   ],
   "source": [
    "# This will convert 200 minutes to hours by dividing by 60. It will also remove excess decimal characters by using \"round\"\n",
    "round(200/60,2)"
   ]
  }
 ],
 "metadata": {
  "kernelspec": {
   "display_name": "Python 3 (ipykernel)",
   "language": "python",
   "name": "python3"
  },
  "language_info": {
   "codemirror_mode": {
    "name": "ipython",
    "version": 3
   },
   "file_extension": ".py",
   "mimetype": "text/x-python",
   "name": "python",
   "nbconvert_exporter": "python",
   "pygments_lexer": "ipython3",
   "version": "3.11.4"
  },
  "toc-showtags": true
 },
 "nbformat": 4,
 "nbformat_minor": 5
}
